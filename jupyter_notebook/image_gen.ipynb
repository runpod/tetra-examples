{
 "cells": [
  {
   "cell_type": "code",
   "execution_count": null,
   "id": "5e786304",
   "metadata": {
    "vscode": {
     "languageId": "plaintext"
    }
   },
   "outputs": [],
   "source": [
    "!pip install tetra_rp"
   ]
  },
  {
   "cell_type": "code",
   "execution_count": null,
   "id": "25d53293",
   "metadata": {
    "vscode": {
     "languageId": "plaintext"
    }
   },
   "outputs": [],
   "source": [
    "import asyncio\n",
    "import base64\n",
    "import io\n",
    "from PIL import Image\n",
    "from tetra_rp import remote, LiveServerless, GpuGroup\n",
    "from IPython.display import display"
   ]
  },
  {
   "cell_type": "code",
   "execution_count": null,
   "id": "4496895b",
   "metadata": {
    "vscode": {
     "languageId": "plaintext"
    }
   },
   "outputs": [],
   "source": [
    "sd_config = LiveServerless(\n",
    "    gpus=[GpuGroup.AMPERE_80],\n",
    "    name=\"example_image_gen_server\",\n",
    ")\n",
    "\n",
    "print(\"GPU configuration created successfully!\")\n",
    "print(f\"GPU Group: {GpuGroup.AMPERE_80}\")\n",
    "print(f\"Server Name: {sd_config.name}\")\n"
   ]
  },
  {
   "cell_type": "code",
   "execution_count": null,
   "id": "fde5cd6c",
   "metadata": {
    "vscode": {
     "languageId": "plaintext"
    }
   },
   "outputs": [],
   "source": [
    "@remote(\n",
    "    resource_config=sd_config,\n",
    "    dependencies=[\"diffusers\", \"transformers\", \"torch\", \"accelerate\", \"safetensors\"],\n",
    ")\n",
    "def generate_image(\n",
    "    prompt,\n",
    "    negative_prompt=\"\",\n",
    "    width=512,\n",
    "    height=512,\n",
    "    num_inference_steps=30,\n",
    "    guidance_scale=7.5,\n",
    "):\n",
    "    \"\"\"Generate an image using Stable Diffusion.\"\"\"\n",
    "    import torch\n",
    "    from diffusers import StableDiffusionPipeline\n",
    "    import io\n",
    "    import base64\n",
    "    from PIL import Image\n",
    "    from pathlib import Path\n",
    "    import os\n",
    "\n",
    "    # File-based model caching to avoid reloading\n",
    "    model_path = Path(\"/tmp/stable_diffusion_model\")\n",
    "    os.makedirs(model_path, exist_ok=True)\n",
    "\n",
    "    # Load pipeline\n",
    "    print(\"Loading Stable Diffusion pipeline...\")\n",
    "    pipeline = StableDiffusionPipeline.from_pretrained(\n",
    "        \"runwayml/stable-diffusion-v1-5\",\n",
    "        torch_dtype=torch.float16,\n",
    "        cache_dir=str(model_path),\n",
    "        local_files_only=(model_path / \"snapshots\").exists(),\n",
    "    )\n",
    "\n",
    "    # Move to GPU\n",
    "    pipeline = pipeline.to(\"cuda\")\n",
    "\n",
    "    # Generate image\n",
    "    print(f\"Generating image for prompt: '{prompt}'\")\n",
    "    image = pipeline(\n",
    "        prompt=prompt,\n",
    "        negative_prompt=negative_prompt,\n",
    "        width=width,\n",
    "        height=height,\n",
    "        num_inference_steps=num_inference_steps,\n",
    "        guidance_scale=guidance_scale,\n",
    "    ).images[0]\n",
    "\n",
    "    # Convert to base64\n",
    "    buffered = io.BytesIO()\n",
    "    image.save(buffered, format=\"PNG\")\n",
    "    img_str = base64.b64encode(buffered.getvalue()).decode()\n",
    "\n",
    "    return {\"image\": img_str, \"prompt\": prompt, \"dimensions\": f\"{width}x{height}\"}\n",
    "\n",
    "print(\"Remote image generation function defined!\")"
   ]
  },
  {
   "cell_type": "code",
   "execution_count": null,
   "id": "d13a0713",
   "metadata": {
    "vscode": {
     "languageId": "plaintext"
    }
   },
   "outputs": [],
   "source": [
    "def save_image_from_result(result, filename=\"generated_image.png\"):\n",
    "    \"\"\"Save image from the result dictionary to a file.\"\"\"\n",
    "    img_data = base64.b64decode(result[\"image\"])\n",
    "    image = Image.open(io.BytesIO(img_data))\n",
    "    image.save(filename)\n",
    "    return image"
   ]
  },
  {
   "cell_type": "code",
   "execution_count": null,
   "id": "7415891d",
   "metadata": {
    "vscode": {
     "languageId": "plaintext"
    }
   },
   "outputs": [],
   "source": [
    "print(\"🚀 Starting image generation...\")\n",
    "\n",
    "result = await generate_image(\n",
    "    prompt=\"Superman and batman fighting with spiderman\",\n",
    "    negative_prompt=\"blurry, distorted, low quality, text, watermark\",\n",
    "    width=768,\n",
    "    height=512,\n",
    ")\n",
    "\n",
    "print(\"✅ Image generation completed!\")\n"
   ]
  },
  {
   "cell_type": "code",
   "execution_count": null,
   "id": "9743d1f5",
   "metadata": {
    "vscode": {
     "languageId": "plaintext"
    }
   },
   "outputs": [],
   "source": [
    "# Save the image\n",
    "output_file = \"superhero_battle.png\"\n",
    "image = save_image_from_result(result, output_file)\n",
    "\n",
    "print(f\"📸 Image saved to {output_file}\")\n",
    "print(f\"🎨 Prompt: {result['prompt']}\")\n",
    "print(f\"📏 Dimensions: {result['dimensions']}\")\n",
    "\n",
    "# Display the image in the notebook\n",
    "display(image)"
   ]
  },
  {
   "cell_type": "code",
   "execution_count": null,
   "id": "783084c9",
   "metadata": {
    "vscode": {
     "languageId": "plaintext"
    }
   },
   "outputs": [],
   "source": [
    "prompts = [\n",
    "    {\n",
    "        \"prompt\": \"A majestic dragon flying over a medieval castle, fantasy art\",\n",
    "        \"negative_prompt\": \"blurry, low quality, text\",\n",
    "        \"filename\": \"dragon_castle.png\"\n",
    "    },\n",
    "    {\n",
    "        \"prompt\": \"A futuristic cyberpunk city at night, neon lights, digital art\",\n",
    "        \"negative_prompt\": \"blurry, low quality, text, watermark\",\n",
    "        \"filename\": \"cyberpunk_city.png\"\n",
    "    },\n",
    "    {\n",
    "        \"prompt\": \"A peaceful forest with sunlight streaming through trees, nature photography\",\n",
    "        \"negative_prompt\": \"blurry, low quality, dark, gloomy\",\n",
    "        \"filename\": \"peaceful_forest.png\"\n",
    "    }\n",
    "]\n",
    "\n",
    "# Generate multiple images\n",
    "for i, prompt_config in enumerate(prompts):\n",
    "    print(f\"\\n🎨 Generating image {i+1}/3: {prompt_config['prompt'][:50]}...\")\n",
    "    \n",
    "    result = await generate_image(\n",
    "        prompt=prompt_config[\"prompt\"],\n",
    "        negative_prompt=prompt_config[\"negative_prompt\"],\n",
    "        width=512,\n",
    "        height=512,\n",
    "        num_inference_steps=25,  # Faster generation\n",
    "    )\n",
    "    \n",
    "    image = save_image_from_result(result, prompt_config[\"filename\"])\n",
    "    print(f\"✅ Saved: {prompt_config['filename']}\")\n",
    "    \n",
    "    # Display the image\n",
    "    display(image)"
   ]
  },
  {
   "cell_type": "code",
   "execution_count": null,
   "id": "abe4840e",
   "metadata": {
    "vscode": {
     "languageId": "plaintext"
    }
   },
   "outputs": [],
   "source": [
    "# Use this cell to generate images with your own custom prompts!\n",
    "\n",
    "# %%\n",
    "# Your custom prompt here\n",
    "custom_prompt = \"A cute robot reading a book in a cozy library\"\n",
    "custom_negative = \"blurry, low quality, scary, dark\"\n",
    "\n",
    "print(f\"🎯 Generating custom image: {custom_prompt}\")\n",
    "\n",
    "custom_result = await generate_image(\n",
    "    prompt=custom_prompt,\n",
    "    negative_prompt=custom_negative,\n",
    "    width=512,\n",
    "    height=512,\n",
    "    num_inference_steps=30,\n",
    "    guidance_scale=8.0,  # Higher guidance for more prompt adherence\n",
    ")\n",
    "\n",
    "custom_image = save_image_from_result(custom_result, \"custom_image.png\")\n",
    "print(\"✅ Custom image generated!\")\n",
    "display(custom_image)"
   ]
  },
  {
   "cell_type": "code",
   "execution_count": null,
   "id": "4293d136",
   "metadata": {
    "vscode": {
     "languageId": "plaintext"
    }
   },
   "outputs": [],
   "source": [
    "async def batch_generate_images(prompts_list, base_filename=\"batch_image\"):\n",
    "    \"\"\"Generate multiple images in batch.\"\"\"\n",
    "    results = []\n",
    "    \n",
    "    for i, prompt in enumerate(prompts_list):\n",
    "        print(f\"🔄 Processing {i+1}/{len(prompts_list)}: {prompt[:50]}...\")\n",
    "        \n",
    "        result = await generate_image(\n",
    "            prompt=prompt,\n",
    "            negative_prompt=\"blurry, low quality, text\",\n",
    "            width=512,\n",
    "            height=512,\n",
    "            num_inference_steps=20,  # Faster for batch processing\n",
    "        )\n",
    "        \n",
    "        filename = f\"{base_filename}_{i+1:02d}.png\"\n",
    "        image = save_image_from_result(result, filename)\n",
    "        results.append({\"result\": result, \"image\": image, \"filename\": filename})\n",
    "        \n",
    "        print(f\"✅ Saved: {filename}\")\n",
    "    \n",
    "    return results\n",
    "\n",
    "# Example batch generation\n",
    "batch_prompts = [\n",
    "    \"A space station orbiting Earth\",\n",
    "    \"A vintage car on a mountain road\",\n",
    "    \"A magical potion brewing in a cauldron\"\n",
    "]\n",
    "\n",
    "print(\"🚀 Starting batch generation...\")\n",
    "batch_results = await batch_generate_images(batch_prompts, \"example_batch\")\n",
    "print(\"🎉 Batch generation completed!\")\n",
    "\n",
    "# %% [markdown]\n",
    "# ## 10. Clean Up and Summary\n",
    "# \n",
    "# Final summary of generated images.\n"
   ]
  },
  {
   "cell_type": "code",
   "execution_count": null,
   "id": "d7e2890e",
   "metadata": {
    "vscode": {
     "languageId": "plaintext"
    }
   },
   "outputs": [],
   "source": [
    "# Final summary of generated images.\n",
    "\n",
    "# %%\n",
    "import os\n",
    "import glob\n",
    "\n",
    "# List all generated PNG files\n",
    "png_files = glob.glob(\"*.png\")\n",
    "print(\"📋 Generated Images Summary:\")\n",
    "print(\"=\" * 40)\n",
    "\n",
    "for i, filename in enumerate(png_files, 1):\n",
    "    file_size = os.path.getsize(filename) / 1024  # Size in KB\n",
    "    print(f\"{i:2d}. {filename} ({file_size:.1f} KB)\")\n",
    "\n",
    "print(f\"\\n🎨 Total images generated: {len(png_files)}\")\n",
    "print(\"✨ All done! Check your local directory for the generated images.\")"
   ]
  }
 ],
 "metadata": {
  "language_info": {
   "name": "python"
  }
 },
 "nbformat": 4,
 "nbformat_minor": 5
}
